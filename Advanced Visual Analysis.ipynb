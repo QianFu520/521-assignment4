{
 "cells": [
  {
   "cell_type": "markdown",
   "id": "39a288eb",
   "metadata": {},
   "source": [
    "# Rule Adherence:"
   ]
  },
  {
   "cell_type": "markdown",
   "id": "e2f0ef51",
   "metadata": {},
   "source": [
    "-Rule 1: The code for generating the advanced visualization (interactive chart)\n",
    "\n",
    "-Rule 8: We have provided hierarchical analysis output for the advanced visualization, allowing readers to inspect different layers of detail."
   ]
  },
  {
   "cell_type": "code",
   "execution_count": 1,
   "id": "afa16153",
   "metadata": {},
   "outputs": [
    {
     "name": "stdout",
     "output_type": "stream",
     "text": [
      "Requirement already satisfied: altair in c:\\users\\qfu88\\anaconda3\\envs\\dojo-env\\lib\\site-packages (5.0.1)\n",
      "Requirement already satisfied: jsonschema>=3.0 in c:\\users\\qfu88\\anaconda3\\envs\\dojo-env\\lib\\site-packages (from altair) (4.15.0)\n",
      "Requirement already satisfied: numpy in c:\\users\\qfu88\\anaconda3\\envs\\dojo-env\\lib\\site-packages (from altair) (1.22.4)\n",
      "Requirement already satisfied: pandas>=0.18 in c:\\users\\qfu88\\anaconda3\\envs\\dojo-env\\lib\\site-packages (from altair) (1.5.3)\n",
      "Requirement already satisfied: jinja2 in c:\\users\\qfu88\\anaconda3\\envs\\dojo-env\\lib\\site-packages (from altair) (3.1.2)\n",
      "Requirement already satisfied: toolz in c:\\users\\qfu88\\anaconda3\\envs\\dojo-env\\lib\\site-packages (from altair) (0.12.0)\n",
      "Requirement already satisfied: typing-extensions>=4.0.1 in c:\\users\\qfu88\\anaconda3\\envs\\dojo-env\\lib\\site-packages (from altair) (4.3.0)\n",
      "Requirement already satisfied: pkgutil-resolve-name>=1.3.10 in c:\\users\\qfu88\\anaconda3\\envs\\dojo-env\\lib\\site-packages (from jsonschema>=3.0->altair) (1.3.10)\n",
      "Requirement already satisfied: attrs>=17.4.0 in c:\\users\\qfu88\\anaconda3\\envs\\dojo-env\\lib\\site-packages (from jsonschema>=3.0->altair) (22.1.0)\n",
      "Requirement already satisfied: pyrsistent!=0.17.0,!=0.17.1,!=0.17.2,>=0.14.0 in c:\\users\\qfu88\\anaconda3\\envs\\dojo-env\\lib\\site-packages (from jsonschema>=3.0->altair) (0.18.1)\n",
      "Requirement already satisfied: importlib-resources>=1.4.0 in c:\\users\\qfu88\\anaconda3\\envs\\dojo-env\\lib\\site-packages (from jsonschema>=3.0->altair) (5.9.0)\n",
      "Requirement already satisfied: pytz>=2020.1 in c:\\users\\qfu88\\anaconda3\\envs\\dojo-env\\lib\\site-packages (from pandas>=0.18->altair) (2022.2.1)\n",
      "Requirement already satisfied: python-dateutil>=2.8.1 in c:\\users\\qfu88\\anaconda3\\envs\\dojo-env\\lib\\site-packages (from pandas>=0.18->altair) (2.8.2)\n",
      "Requirement already satisfied: MarkupSafe>=2.0 in c:\\users\\qfu88\\anaconda3\\envs\\dojo-env\\lib\\site-packages (from jinja2->altair) (2.1.1)\n",
      "Requirement already satisfied: zipp>=3.1.0 in c:\\users\\qfu88\\anaconda3\\envs\\dojo-env\\lib\\site-packages (from importlib-resources>=1.4.0->jsonschema>=3.0->altair) (3.8.1)\n",
      "Requirement already satisfied: six>=1.5 in c:\\users\\qfu88\\anaconda3\\envs\\dojo-env\\lib\\site-packages (from python-dateutil>=2.8.1->pandas>=0.18->altair) (1.16.0)\n"
     ]
    }
   ],
   "source": [
    "!pip install altair"
   ]
  },
  {
   "cell_type": "code",
   "execution_count": 2,
   "id": "25f4bf3d",
   "metadata": {},
   "outputs": [
    {
     "data": {
      "text/plain": [
       "DataTransformerRegistry.enable('json')"
      ]
     },
     "execution_count": 2,
     "metadata": {},
     "output_type": "execute_result"
    }
   ],
   "source": [
    "import pandas as pd\n",
    "import numpy as np\n",
    "import os,json\n",
    "import math\n",
    "\n",
    "import altair as alt\n",
    "alt.renderers.enable('default')\n",
    "alt.data_transformers.enable('json')"
   ]
  },
  {
   "cell_type": "markdown",
   "id": "7e94086f",
   "metadata": {},
   "source": [
    "### Advanced Visual Analysis Technique Used: Interactive Charts with Altair"
   ]
  },
  {
   "cell_type": "markdown",
   "id": "1f72394b",
   "metadata": {},
   "source": [
    "Interactive charts are a powerful tool in data visualization that can significantly enhance the user experience and provide deeper insights. They enable viewers to engage with the data more closely, offering controls for zooming, panning, hovering over data points to view more information (via tooltips), selecting specific data ranges, and more.\n",
    "\n",
    "The library used to create these charts, Altair, is a declarative statistical visualization library for Python that's based on Vega and Vega-Lite. It offers a simple and effective approach to create complex and interactive statistical plots in Python."
   ]
  },
  {
   "cell_type": "code",
   "execution_count": 9,
   "id": "340c2a6c",
   "metadata": {},
   "outputs": [],
   "source": [
    "# Load your data\n",
    "df_before = pd.read_csv('Data/before_running.csv')\n",
    "df_during = pd.read_csv('Data/during_running.csv')\n",
    "df_after = pd.read_csv('Data/after_running.csv')"
   ]
  },
  {
   "cell_type": "markdown",
   "id": "f4565b37",
   "metadata": {},
   "source": [
    "## Code for Generating the Advanced Visualization: Interactive Charts"
   ]
  },
  {
   "cell_type": "code",
   "execution_count": 10,
   "id": "9a6c394b",
   "metadata": {},
   "outputs": [
    {
     "data": {
      "text/html": [
       "\n",
       "<style>\n",
       "  #altair-viz-8ba5ee836df54afd90a844062f761392.vega-embed {\n",
       "    width: 100%;\n",
       "    display: flex;\n",
       "  }\n",
       "\n",
       "  #altair-viz-8ba5ee836df54afd90a844062f761392.vega-embed details,\n",
       "  #altair-viz-8ba5ee836df54afd90a844062f761392.vega-embed details summary {\n",
       "    position: relative;\n",
       "  }\n",
       "</style>\n",
       "<div id=\"altair-viz-8ba5ee836df54afd90a844062f761392\"></div>\n",
       "<script type=\"text/javascript\">\n",
       "  var VEGA_DEBUG = (typeof VEGA_DEBUG == \"undefined\") ? {} : VEGA_DEBUG;\n",
       "  (function(spec, embedOpt){\n",
       "    let outputDiv = document.currentScript.previousElementSibling;\n",
       "    if (outputDiv.id !== \"altair-viz-8ba5ee836df54afd90a844062f761392\") {\n",
       "      outputDiv = document.getElementById(\"altair-viz-8ba5ee836df54afd90a844062f761392\");\n",
       "    }\n",
       "    const paths = {\n",
       "      \"vega\": \"https://cdn.jsdelivr.net/npm/vega@5?noext\",\n",
       "      \"vega-lib\": \"https://cdn.jsdelivr.net/npm/vega-lib?noext\",\n",
       "      \"vega-lite\": \"https://cdn.jsdelivr.net/npm/vega-lite@5.8.0?noext\",\n",
       "      \"vega-embed\": \"https://cdn.jsdelivr.net/npm/vega-embed@6?noext\",\n",
       "    };\n",
       "\n",
       "    function maybeLoadScript(lib, version) {\n",
       "      var key = `${lib.replace(\"-\", \"\")}_version`;\n",
       "      return (VEGA_DEBUG[key] == version) ?\n",
       "        Promise.resolve(paths[lib]) :\n",
       "        new Promise(function(resolve, reject) {\n",
       "          var s = document.createElement('script');\n",
       "          document.getElementsByTagName(\"head\")[0].appendChild(s);\n",
       "          s.async = true;\n",
       "          s.onload = () => {\n",
       "            VEGA_DEBUG[key] = version;\n",
       "            return resolve(paths[lib]);\n",
       "          };\n",
       "          s.onerror = () => reject(`Error loading script: ${paths[lib]}`);\n",
       "          s.src = paths[lib];\n",
       "        });\n",
       "    }\n",
       "\n",
       "    function showError(err) {\n",
       "      outputDiv.innerHTML = `<div class=\"error\" style=\"color:red;\">${err}</div>`;\n",
       "      throw err;\n",
       "    }\n",
       "\n",
       "    function displayChart(vegaEmbed) {\n",
       "      vegaEmbed(outputDiv, spec, embedOpt)\n",
       "        .catch(err => showError(`Javascript Error: ${err.message}<br>This usually means there's a typo in your chart specification. See the javascript console for the full traceback.`));\n",
       "    }\n",
       "\n",
       "    if(typeof define === \"function\" && define.amd) {\n",
       "      requirejs.config({paths});\n",
       "      require([\"vega-embed\"], displayChart, err => showError(`Error loading script: ${err.message}`));\n",
       "    } else {\n",
       "      maybeLoadScript(\"vega\", \"5\")\n",
       "        .then(() => maybeLoadScript(\"vega-lite\", \"5.8.0\"))\n",
       "        .then(() => maybeLoadScript(\"vega-embed\", \"6\"))\n",
       "        .catch(showError)\n",
       "        .then(() => displayChart(vegaEmbed));\n",
       "    }\n",
       "  })({\"config\": {\"view\": {\"continuousWidth\": 300, \"continuousHeight\": 300}}, \"vconcat\": [{\"data\": {\"url\": \"altair-data-320b19f6ae119d81a86a1b84d07e2f27.json\", \"format\": {\"type\": \"json\"}}, \"mark\": {\"type\": \"point\"}, \"encoding\": {\"tooltip\": [{\"field\": \"timestamp\", \"type\": \"temporal\"}, {\"field\": \"heart_rate\", \"type\": \"quantitative\"}], \"x\": {\"field\": \"timestamp\", \"type\": \"temporal\"}, \"y\": {\"field\": \"heart_rate\", \"type\": \"quantitative\"}}, \"name\": \"view_5\", \"title\": \"Heart Rate over Time in Dataset 1\", \"width\": 600}, {\"data\": {\"url\": \"altair-data-547aad6b5728502faaba78ff700c29f2.json\", \"format\": {\"type\": \"json\"}}, \"mark\": {\"type\": \"point\"}, \"encoding\": {\"tooltip\": [{\"field\": \"timestamp\", \"type\": \"temporal\"}, {\"field\": \"heart_rate\", \"type\": \"quantitative\"}], \"x\": {\"field\": \"timestamp\", \"type\": \"temporal\"}, \"y\": {\"field\": \"heart_rate\", \"type\": \"quantitative\"}}, \"name\": \"view_6\", \"title\": \"Heart Rate over Time in Dataset 2\", \"width\": 600}, {\"data\": {\"url\": \"altair-data-f5df5810e11261dcd3868731d8468622.json\", \"format\": {\"type\": \"json\"}}, \"mark\": {\"type\": \"point\"}, \"encoding\": {\"tooltip\": [{\"field\": \"timestamp\", \"type\": \"temporal\"}, {\"field\": \"heart_rate\", \"type\": \"quantitative\"}], \"x\": {\"field\": \"timestamp\", \"type\": \"temporal\"}, \"y\": {\"field\": \"heart_rate\", \"type\": \"quantitative\"}}, \"name\": \"view_7\", \"title\": \"Heart Rate over Time in Dataset 3\", \"width\": 600}], \"params\": [{\"name\": \"param_6\", \"select\": {\"type\": \"interval\", \"encodings\": [\"x\", \"y\"]}, \"bind\": \"scales\", \"views\": [\"view_5\"]}, {\"name\": \"param_7\", \"select\": {\"type\": \"interval\", \"encodings\": [\"x\", \"y\"]}, \"bind\": \"scales\", \"views\": [\"view_6\"]}, {\"name\": \"param_8\", \"select\": {\"type\": \"interval\", \"encodings\": [\"x\", \"y\"]}, \"bind\": \"scales\", \"views\": [\"view_7\"]}], \"$schema\": \"https://vega.github.io/schema/vega-lite/v5.8.0.json\"}, {\"mode\": \"vega-lite\"});\n",
       "</script>"
      ],
      "text/plain": [
       "alt.VConcatChart(...)"
      ]
     },
     "execution_count": 10,
     "metadata": {},
     "output_type": "execute_result"
    }
   ],
   "source": [
    "\n",
    "\n",
    "# Ensure the timestamp is in datetime format\n",
    "df_before['timestamp'] = pd.to_datetime(df_before['timestamp'])\n",
    "df_during['timestamp'] = pd.to_datetime(df_during['timestamp'])\n",
    "df_after['timestamp'] = pd.to_datetime(df_after['timestamp'])\n",
    "\n",
    "# Create a line chart for 'heart_rate' for each dataset\n",
    "heart_rate_chart1 = alt.Chart(df_before).mark_point().encode(\n",
    "    x='timestamp',\n",
    "    y='heart_rate',\n",
    "    tooltip=['timestamp', 'heart_rate']\n",
    ").interactive().properties(\n",
    "    title='Heart Rate over Time Before Exercise',\n",
    "    width=600\n",
    ")\n",
    "\n",
    "heart_rate_chart2 = alt.Chart(df_during).mark_point().encode(\n",
    "    x='timestamp',\n",
    "    y='heart_rate',\n",
    "    tooltip=['timestamp', 'heart_rate']\n",
    ").interactive().properties(\n",
    "    title='Heart Rate over Time in During Exercise',\n",
    "    width=600\n",
    ")\n",
    "\n",
    "heart_rate_chart3 = alt.Chart(df_after).mark_point().encode(\n",
    "    x='timestamp',\n",
    "    y='heart_rate',\n",
    "    tooltip=['timestamp', 'heart_rate']\n",
    ").interactive().properties(\n",
    "    title='Heart Rate over Time in After Exercise',\n",
    "    width=600\n",
    ")\n",
    "\n",
    "# Display the charts\n",
    "heart_rate_chart1 & heart_rate_chart2 & heart_rate_chart3\n"
   ]
  },
  {
   "cell_type": "markdown",
   "id": "64bcc908",
   "metadata": {},
   "source": [
    "### Why This Technique Was Used:"
   ]
  },
  {
   "cell_type": "markdown",
   "id": "9e0157d0",
   "metadata": {},
   "source": [
    "The primary insight I'm aiming to derive from these plots is the trend of heart rate over time, particularly observing differences before, during, and after exercise. Traditional static plots can make this challenging due to the high density of data points, making it difficult to discern individual values and trends. However, with the use of interactive charts, this process becomes significantly more manageable and informative. By simply hovering over any point on the line chart, a tooltip emerges, providing detailed information about that specific data point, such as the exact time and the precise heart rate value. This functionality empowers viewers to explore specific data points of interest in greater detail, thereby allowing a comprehensive understanding of heart rate trends relative to exercise periods."
   ]
  },
  {
   "cell_type": "code",
   "execution_count": null,
   "id": "9ab16d8c",
   "metadata": {},
   "outputs": [],
   "source": []
  }
 ],
 "metadata": {
  "kernelspec": {
   "display_name": "Python (dojo-env)",
   "language": "python",
   "name": "dojo-env"
  },
  "language_info": {
   "codemirror_mode": {
    "name": "ipython",
    "version": 3
   },
   "file_extension": ".py",
   "mimetype": "text/x-python",
   "name": "python",
   "nbconvert_exporter": "python",
   "pygments_lexer": "ipython3",
   "version": "3.8.13"
  },
  "toc": {
   "base_numbering": 1,
   "nav_menu": {},
   "number_sections": false,
   "sideBar": true,
   "skip_h1_title": false,
   "title_cell": "Table of Contents",
   "title_sidebar": "Contents",
   "toc_cell": false,
   "toc_position": {},
   "toc_section_display": true,
   "toc_window_display": false
  }
 },
 "nbformat": 4,
 "nbformat_minor": 5
}
